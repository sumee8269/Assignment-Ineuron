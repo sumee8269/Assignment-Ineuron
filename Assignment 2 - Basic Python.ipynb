{
 "cells": [
  {
   "cell_type": "markdown",
   "id": "943799c6",
   "metadata": {},
   "source": [
    "1.What are the two values of the Boolean data type? How do you write them?\n",
    "\n",
    "Sol - there are two type of Boolean Data type True and False."
   ]
  },
  {
   "cell_type": "markdown",
   "id": "5556e419",
   "metadata": {},
   "source": [
    "2. What are the three different types of Boolean operators?\n",
    "\n",
    "Sol - AND, OR, and NOT."
   ]
  },
  {
   "cell_type": "markdown",
   "id": "53574da1",
   "metadata": {},
   "source": [
    "3. Make a list of each Boolean operator's truth tables (i.e. every possible combination of Boolean values for the operator and what it evaluate ).\n",
    "\n",
    "sol- \n",
    "\n",
    "== Truth Table\n",
    "\n",
    "x\t==\ty\tReturns\n",
    "\n",
    "True\t==\tTrue\tTrue\n",
    "\n",
    "True\t==\tFalse\tFalse\n",
    "\n",
    "False\t==\tTrue\tFalse\n",
    "\n",
    "False\t==\tFalse\tTrue\n",
    "\n",
    "AND Truth Table\n",
    "\n",
    "x\tand\ty\tReturns\n",
    "\n",
    "True\tand\tTrue\tTrue\n",
    "\n",
    "True\tand\tFalse\tFalse\n",
    "\n",
    "False\tand\tTrue\tFalse\n",
    "\n",
    "False\tand\tFalse\tFalse\n",
    "\n",
    "OR Truth Table\n",
    "\n",
    "x\tor\ty\tReturns\n",
    "\n",
    "True\tor\tTrue\tTrue\n",
    "\n",
    "True\tor\tFalse\tTrue\n",
    "\n",
    "False\tor\tTrue\tTrue\n",
    "\n",
    "False\tor\tFalse\tFalse\n",
    "\n",
    "NOT Truth Table\n",
    "\n",
    "not\tx\tReturns\n",
    "\n",
    "not\tTrue\tFalse\n",
    "\n",
    "not\tFalse\tTrue"
   ]
  },
  {
   "cell_type": "markdown",
   "id": "ae3225a9",
   "metadata": {},
   "source": [
    "4. What are the values of the following expressions?\n",
    "Sol = \n",
    "\n",
    "(5 > 4) and (3 == 5) = False\n",
    "\n",
    "not (5 > 4) = Flase\n",
    "\n",
    "(5 > 4) or (3 == 5) = True\n",
    "\n",
    "not ((5 > 4) or (3 == 5)) = False\n",
    "\n",
    "(True and True) and (True == False) = False\n",
    "\n",
    "(not False) or (not True) = True"
   ]
  },
  {
   "cell_type": "markdown",
   "id": "be532907",
   "metadata": {},
   "source": [
    "5. What are the six comparison operators?\n",
    "\n",
    "sol =\n",
    "\n",
    "1)equals to ==,\n",
    "\n",
    "2)not equals to !=,\n",
    "\n",
    "3)less then<,\n",
    "\n",
    "4)greater then>,\n",
    "\n",
    "5)less then equals to <=,\n",
    "\n",
    "6)greator then equals to >=."
   ]
  },
  {
   "cell_type": "markdown",
   "id": "110182e2",
   "metadata": {},
   "source": [
    "6. How do you tell the difference between the equal to and assignment operators?Describe a condition and when you would use one.\n",
    "\n",
    "Sol - \n",
    "\n",
    "== is the equal to operator that compares two values and evaluates to a Boolean, while = is the assignment operator that stores a value in a variable.\n",
    "\n",
    "x=(a+b);\n",
    "\n",
    "y=x;\n",
    "\n",
    "Here, When first expression evaluates value of (a+b) will be assigned into x and in second expression y=x; value of variable xwill be assigned into y.\n",
    "\n"
   ]
  },
  {
   "cell_type": "markdown",
   "id": "51efc819",
   "metadata": {},
   "source": [
    " 7. Identify the three blocks in this code:\n",
    "spam = 0\n",
    "if spam == 10:\n",
    "    print('eggs')\n",
    "if spam > 5:\n",
    "    print('bacon')\n",
    "else:\n",
    "    print('ham')\n",
    "    print('spam')\n",
    "    print('spam')\n",
    "\n",
    "Sol - The three blocks are everything inside the if statement and the lines print('ham'), print('spam') and print('spam').\n",
    "\n",
    "print('eggs')\n",
    "if spam > 5:\n",
    "print('bacon')\n",
    "else:\n",
    "print('ham')\n",
    "print('spam')"
   ]
  },
  {
   "cell_type": "markdown",
   "id": "c21aab40",
   "metadata": {},
   "source": [
    "8. Write code that prints Hello if 1 is stored in spam, prints Howdy if 2 is stored in spam, and prints Greetings! if anything else is stored in spam."
   ]
  },
  {
   "cell_type": "markdown",
   "id": "b1dd8090",
   "metadata": {},
   "source": [
    "#solution\n",
    "\n",
    "spam = int(input('write value'))\n",
    "\n",
    "if (spam == 1):\n",
    "\n",
    "    print('Hello')\n",
    "elif(spam == 2):\n",
    "\n",
    "    print('Howdy')\n",
    "    \n",
    "else:\n",
    "\n",
    "    print('Greetings!')"
   ]
  },
  {
   "cell_type": "markdown",
   "id": "a0bb33fb",
   "metadata": {},
   "source": [
    "9.If your programme is stuck in an endless loop, what keys you’ll press?\n",
    "\n",
    "Sol - Press CTRL-C to stop a program stuck in an infinite loop or in jupiter notbook there is a icon interrupt the kernel we also can press that."
   ]
  },
  {
   "cell_type": "markdown",
   "id": "d405d925",
   "metadata": {},
   "source": [
    "10. How can you tell the difference between break and continue?\n",
    "\n",
    "sol-The Python break statement stops the loop in which the statement is placed. A Python continue statement skips a single iteration in a loop. Both break and continue statements can be used in a for or a while loop."
   ]
  },
  {
   "cell_type": "markdown",
   "id": "e77ab7f4",
   "metadata": {},
   "source": [
    "11. In a for loop, what is the difference between range(10), range(0, 10), and range(0, 10, 1)?\n",
    "\n",
    "sol - Python range() function returns the sequence of the given number between the given range.\n",
    "with the help of python range syntax i can define. \n",
    "\n",
    "1) range(10) - range(stop) ,t will take 0 to 9 ie 10 values , by default it will take 0 as starting point\n",
    "\n",
    "2) range(0,10) - same as above \n",
    "\n",
    "3) range(0,10,1) - range(start, stop, step) it will show steps integer value which determines the increment between each integer in the sequence \n"
   ]
  },
  {
   "cell_type": "markdown",
   "id": "30570be3",
   "metadata": {},
   "source": [
    "equivalent program that prints the numbers 1 to 10 using a while loop."
   ]
  },
  {
   "cell_type": "code",
   "execution_count": 30,
   "id": "72383de8",
   "metadata": {},
   "outputs": [
    {
     "name": "stdout",
     "output_type": "stream",
     "text": [
      "1\n",
      "2\n",
      "3\n",
      "4\n",
      "5\n",
      "6\n",
      "7\n",
      "8\n",
      "9\n",
      "10\n"
     ]
    }
   ],
   "source": [
    "#Sol- \n",
    "i = 1\n",
    "\n",
    "while i<=10:\n",
    "    \n",
    "    print(i)\n",
    "    \n",
    "    i = i+1"
   ]
  },
  {
   "cell_type": "markdown",
   "id": "3b257b52",
   "metadata": {},
   "source": [
    "12. Write a short program that prints the numbers 1 to 10 using a for loop."
   ]
  },
  {
   "cell_type": "code",
   "execution_count": 33,
   "id": "25147409",
   "metadata": {},
   "outputs": [
    {
     "name": "stdout",
     "output_type": "stream",
     "text": [
      "1\n",
      "2\n",
      "3\n",
      "4\n",
      "5\n",
      "6\n",
      "7\n",
      "8\n",
      "9\n",
      "10\n"
     ]
    }
   ],
   "source": [
    "#sol- \n",
    "for i in range(1,11):\n",
    "    print(i)"
   ]
  },
  {
   "cell_type": "code",
   "execution_count": null,
   "id": "3515260b",
   "metadata": {},
   "outputs": [],
   "source": [
    "13. If you had a function named bacon() inside a module named spam, how would you call it after importing spam?"
   ]
  }
 ],
 "metadata": {
  "kernelspec": {
   "display_name": "Python 3",
   "language": "python",
   "name": "python3"
  },
  "language_info": {
   "codemirror_mode": {
    "name": "ipython",
    "version": 3
   },
   "file_extension": ".py",
   "mimetype": "text/x-python",
   "name": "python",
   "nbconvert_exporter": "python",
   "pygments_lexer": "ipython3",
   "version": "3.8.8"
  }
 },
 "nbformat": 4,
 "nbformat_minor": 5
}
