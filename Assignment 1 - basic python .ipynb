{
 "cells": [
  {
   "cell_type": "markdown",
   "id": "b07fb888",
   "metadata": {},
   "source": [
    "1. In the below elements which of them are values or an expression? eg:- values can be integer or string and expressions will be mathematical operators.\n",
    "* \n",
    "'hello'\n",
    "-87.8\n",
    "- \n",
    "/ \n",
    "\n",
    "6 \n",
    "\n",
    "Sol - \n",
    "'hello' = value,\n",
    "\n",
    "87.8 = value,\n",
    "\n",
    "/ = Expression,\n",
    "\n",
    "6 = Expression,\n"
   ]
  },
  {
   "cell_type": "markdown",
   "id": "b3e29d15",
   "metadata": {},
   "source": [
    "2. What is the difference between string and variable?\n",
    "\n",
    "\n",
    "Sol= A variable is basically the name of the location in the primary memory of our computer. This can be chosen by us. A variable can store everything from strings to numbers. A string is the values inside the quotes assigned to a string."
   ]
  },
  {
   "cell_type": "markdown",
   "id": "ed4ebdd5",
   "metadata": {},
   "source": [
    "3. Describe three different data types.\n",
    "\n",
    "sol-Python has several datatypes.\n",
    "\n",
    "Integers – This value is represented by int class. It contains positive or negative whole numbers (without fraction or decimal). In Python there is no limit to how long an integer value can be.\n",
    "\n",
    "Float – This value is represented by float class. It is a real number with floating point representation. It is specified by a decimal point. Optionally, the character e or E followed by a positive or negative integer may be appended to specify scientific notation.\n",
    "\n",
    "Complex Numbers – Complex number is represented by complex class. It is specified as (real part) + (imaginary part)j. For example – 2+3j"
   ]
  },
  {
   "cell_type": "markdown",
   "id": "8dc189f7",
   "metadata": {},
   "source": [
    "4. What is an expression made up of? What do all expressions do?\n",
    "\n",
    "sol- An expression is a combination of operators and operands that is interpreted to produce some other value. In any programming language, an expression is evaluated as per the precedence of its operators. So that if there is more than one operator in an expression, their precedence decides which operation will be performed first."
   ]
  },
  {
   "cell_type": "markdown",
   "id": "26991cc1",
   "metadata": {},
   "source": [
    "5. This assignment statements, like spam = 10. What is the difference between an expression and a statement?\n",
    "\n",
    "sol - In programming language terminology, an “expression” is a combination of values and functions that are combined and interpreted by the compiler to create a new value, as opposed to a “statement” which is just a standalone unit of execution and doesn't return anything"
   ]
  },
  {
   "cell_type": "markdown",
   "id": "17fc75ac",
   "metadata": {},
   "source": [
    "6. After running the following code, what does the variable bacon contain?\n",
    "\n",
    "bacon = 22\n",
    "\n",
    "bacon + 1\n",
    "\n",
    "sol - bacon contain 22 becouse its value is not changing."
   ]
  },
  {
   "cell_type": "markdown",
   "id": "2179765f",
   "metadata": {},
   "source": [
    "7. What should the values of the following two terms be?\n",
    "\n",
    "'spam' + 'spamspam'\n",
    "'spam' * 3\n",
    "\n",
    "\n",
    "sol- both will return 'spamspamspam'"
   ]
  },
  {
   "cell_type": "markdown",
   "id": "44413f05",
   "metadata": {},
   "source": [
    "8. Why is eggs a valid variable name while 100 is invalid?\n",
    "\n",
    "sol- Because pyhton have some rules it will not start with int as variable name "
   ]
  },
  {
   "cell_type": "markdown",
   "id": "315afcbd",
   "metadata": {},
   "source": [
    "9. What three functions can be used to get the integer, floating-point number, or string version of a value?\n",
    "\n",
    "sol- for integer there is int function\n",
    "\n",
    "for floating-point number there is float function\n",
    "\n",
    "for string version there is str function in python"
   ]
  },
  {
   "cell_type": "markdown",
   "id": "887ce142",
   "metadata": {},
   "source": [
    "10. Why does this expression cause an error? How can you fix it?\n",
    "\n",
    "'I have eaten ' + 99 + ' burritos.'\n",
    "\n",
    "sol- as per rules in python we can not concatenate str to int \n",
    "\n",
    "so for remove this error we can change int value to str by assign quotes i.e. ''"
   ]
  },
  {
   "cell_type": "code",
   "execution_count": null,
   "id": "1e20fdef",
   "metadata": {},
   "outputs": [],
   "source": []
  }
 ],
 "metadata": {
  "kernelspec": {
   "display_name": "Python 3",
   "language": "python",
   "name": "python3"
  },
  "language_info": {
   "codemirror_mode": {
    "name": "ipython",
    "version": 3
   },
   "file_extension": ".py",
   "mimetype": "text/x-python",
   "name": "python",
   "nbconvert_exporter": "python",
   "pygments_lexer": "ipython3",
   "version": "3.8.8"
  }
 },
 "nbformat": 4,
 "nbformat_minor": 5
}
