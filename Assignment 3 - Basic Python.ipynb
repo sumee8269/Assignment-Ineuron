{
 "cells": [
  {
   "cell_type": "markdown",
   "id": "6a245f30",
   "metadata": {},
   "source": [
    "1. Why are functions advantageous to have in your programs?\n",
    "\n",
    "Ans - Functions enable reuse of code, improve maintainability and scalability."
   ]
  },
  {
   "cell_type": "markdown",
   "id": "ac2ba085",
   "metadata": {},
   "source": [
    "2. When does the code in a function run: when it's specified or when it's called?\n",
    "\n",
    "Ans - The code in a function executes when the function is called, not when the function is Specified."
   ]
  },
  {
   "cell_type": "markdown",
   "id": "4f5fe780",
   "metadata": {},
   "source": [
    "3. What statement creates a function?\n",
    "\n",
    "Ans - The def statement creates a function."
   ]
  },
  {
   "cell_type": "markdown",
   "id": "48d09f85",
   "metadata": {},
   "source": [
    "4. What is the difference between a function and a function call?\n",
    "\n",
    "Ans - A function is procedure to achieve a particular result while function call is using this function to achive that task"
   ]
  },
  {
   "cell_type": "markdown",
   "id": "0a1fd44e",
   "metadata": {},
   "source": [
    "5. How many global scopes are there in a Python program? How many local scopes?\n",
    "\n",
    "Ans - There is one global scope, and a local scope is created whenever a function is called."
   ]
  },
  {
   "cell_type": "markdown",
   "id": "344fb6eb",
   "metadata": {},
   "source": [
    "6. What happens to variables in a local scope when the function call returns?\n",
    "\n",
    "Ans-When a function returns, the local scope is destroyed, and all the variables in it are forgotten."
   ]
  },
  {
   "cell_type": "markdown",
   "id": "ed4d85ed",
   "metadata": {},
   "source": [
    "7. What is the concept of a return value? Is it possible to have a return value in an expression?\n",
    "\n",
    "Ans -A return value is the value that a function call evaluates to. Like any value, a return value can be used as part of an expression."
   ]
  },
  {
   "cell_type": "markdown",
   "id": "b28f0fa0",
   "metadata": {},
   "source": [
    "8. If a function does not have a return statement, what is the return value of a call to that function?\n",
    "\n",
    "Ans - If there is no return statement for a function, its return value is None."
   ]
  },
  {
   "cell_type": "markdown",
   "id": "e6f2a2de",
   "metadata": {},
   "source": [
    "9. How do you make a function variable refer to the global variable?\n",
    "\n",
    "Ans-A global statement will force a variable in a function to refer to the global variable."
   ]
  },
  {
   "cell_type": "markdown",
   "id": "6c422c70",
   "metadata": {},
   "source": [
    "10. What is the data type of None?\n",
    "\n",
    "Ans - NoneType."
   ]
  },
  {
   "cell_type": "markdown",
   "id": "50bfa8ab",
   "metadata": {},
   "source": [
    "11. What does the sentence import areallyourpetsnamederic do?\n",
    "\n",
    "Ans - It is not a liberary in python any function we have created so it will show ModuleNotFoundError"
   ]
  },
  {
   "cell_type": "markdown",
   "id": "8539e065",
   "metadata": {},
   "source": [
    "12. If you had a bacon() feature in a spam module, what would you call it after importing spam?\n",
    "\n",
    "Ans - This Feature can be called with spam. bacon()."
   ]
  },
  {
   "cell_type": "markdown",
   "id": "a08b5cf0",
   "metadata": {},
   "source": [
    "13. What can you do to save a programme from crashing if it encounters an error?\n",
    "\n",
    "Ans- with the help of try and except method error handling can be used to notify the user of why the error occurred and gracefully exit the process that caused the error."
   ]
  },
  {
   "cell_type": "markdown",
   "id": "eedf45f9",
   "metadata": {},
   "source": [
    "14. What is the purpose of the try clause? What is the purpose of the except clause?\n",
    "\n",
    "Ans - The Python try…except statement catches an exception. It is used to test code for an error which is written in the “try” statement. If an error is encountered, the contents of the “except” block are run."
   ]
  },
  {
   "cell_type": "code",
   "execution_count": null,
   "id": "7863c796",
   "metadata": {},
   "outputs": [],
   "source": []
  }
 ],
 "metadata": {
  "kernelspec": {
   "display_name": "Python 3",
   "language": "python",
   "name": "python3"
  },
  "language_info": {
   "codemirror_mode": {
    "name": "ipython",
    "version": 3
   },
   "file_extension": ".py",
   "mimetype": "text/x-python",
   "name": "python",
   "nbconvert_exporter": "python",
   "pygments_lexer": "ipython3",
   "version": "3.8.8"
  }
 },
 "nbformat": 4,
 "nbformat_minor": 5
}
